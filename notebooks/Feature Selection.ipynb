{
 "cells": [
  {
   "cell_type": "markdown",
   "id": "806be08a",
   "metadata": {},
   "source": [
    "## <center>Prueba Tecnica</center>\n",
    "#### <center>Autor:</center>\n",
    "##### <center>Sebastian Carvalho Salazar:</center>"
   ]
  },
  {
   "cell_type": "markdown",
   "id": "25e52eb4",
   "metadata": {},
   "source": [
    "# Selección de Caracteristicas"
   ]
  },
  {
   "cell_type": "markdown",
   "id": "c7d0688d",
   "metadata": {},
   "source": [
    "La regresión Lasso es útil para la selección de características ya que nos permite identificar qué características son más importantes para predecir una variable objetivo, mientras que también nos ayuda a evitar el sobreajuste del modelo."
   ]
  },
  {
   "cell_type": "code",
   "execution_count": 1,
   "id": "5b9e0004",
   "metadata": {},
   "outputs": [
    {
     "name": "stdout",
     "output_type": "stream",
     "text": [
      "Mejores parámetros:  {'alpha': 0.11}\n",
      "Mejor score:  1.7761651956084146e+30\n",
      "Lasso Loss: 0.5826034675582386\n",
      "\n",
      "\n",
      "================================================================\n",
      "\n",
      "\n",
      "Coef LASSO: \n",
      "[ 0.00000000e+00 -0.00000000e+00  0.00000000e+00  0.00000000e+00\n",
      " -0.00000000e+00 -0.00000000e+00  8.90792281e-02 -2.64632728e-03\n",
      "  4.43075140e-03  0.00000000e+00 -0.00000000e+00 -2.16576513e-01\n",
      "  4.13126776e-02 -0.00000000e+00  0.00000000e+00 -0.00000000e+00\n",
      "  0.00000000e+00  0.00000000e+00 -0.00000000e+00  0.00000000e+00\n",
      " -0.00000000e+00 -0.00000000e+00  0.00000000e+00  0.00000000e+00\n",
      " -0.00000000e+00 -0.00000000e+00  0.00000000e+00 -0.00000000e+00\n",
      " -0.00000000e+00  0.00000000e+00 -0.00000000e+00  0.00000000e+00\n",
      "  0.00000000e+00 -0.00000000e+00  0.00000000e+00 -0.00000000e+00\n",
      "  0.00000000e+00  0.00000000e+00  0.00000000e+00 -0.00000000e+00\n",
      "  0.00000000e+00 -0.00000000e+00  0.00000000e+00  0.00000000e+00\n",
      "  0.00000000e+00 -0.00000000e+00  0.00000000e+00  0.00000000e+00\n",
      "  0.00000000e+00 -0.00000000e+00  0.00000000e+00 -0.00000000e+00\n",
      " -0.00000000e+00  0.00000000e+00  0.00000000e+00  0.00000000e+00\n",
      "  0.00000000e+00  0.00000000e+00 -0.00000000e+00  0.00000000e+00\n",
      " -0.00000000e+00  0.00000000e+00 -0.00000000e+00 -0.00000000e+00\n",
      " -0.00000000e+00 -0.00000000e+00 -0.00000000e+00  0.00000000e+00\n",
      "  0.00000000e+00 -0.00000000e+00  0.00000000e+00 -0.00000000e+00\n",
      " -0.00000000e+00 -0.00000000e+00 -0.00000000e+00  0.00000000e+00\n",
      " -0.00000000e+00 -0.00000000e+00  0.00000000e+00  0.00000000e+00\n",
      " -0.00000000e+00  0.00000000e+00 -0.00000000e+00  0.00000000e+00\n",
      " -0.00000000e+00 -0.00000000e+00  0.00000000e+00 -0.00000000e+00\n",
      "  0.00000000e+00  0.00000000e+00 -0.00000000e+00  0.00000000e+00\n",
      "  0.00000000e+00  0.00000000e+00 -0.00000000e+00 -0.00000000e+00\n",
      "  0.00000000e+00  0.00000000e+00 -0.00000000e+00  0.00000000e+00\n",
      " -0.00000000e+00  0.00000000e+00 -0.00000000e+00  0.00000000e+00\n",
      " -0.00000000e+00  0.00000000e+00 -0.00000000e+00 -0.00000000e+00\n",
      " -0.00000000e+00 -0.00000000e+00 -0.00000000e+00  0.00000000e+00\n",
      " -0.00000000e+00  0.00000000e+00  0.00000000e+00 -0.00000000e+00\n",
      "  0.00000000e+00 -0.00000000e+00 -0.00000000e+00  0.00000000e+00\n",
      " -0.00000000e+00 -0.00000000e+00  0.00000000e+00 -0.00000000e+00\n",
      "  0.00000000e+00  0.00000000e+00  0.00000000e+00  2.71818256e-01\n",
      " -1.81320505e-16  0.00000000e+00  0.00000000e+00 -0.00000000e+00\n",
      "  0.00000000e+00 -0.00000000e+00  0.00000000e+00 -0.00000000e+00\n",
      " -0.00000000e+00  0.00000000e+00 -0.00000000e+00  0.00000000e+00\n",
      "  0.00000000e+00 -0.00000000e+00 -0.00000000e+00  0.00000000e+00\n",
      " -0.00000000e+00  0.00000000e+00  0.00000000e+00  0.00000000e+00\n",
      " -0.00000000e+00  0.00000000e+00 -0.00000000e+00  0.00000000e+00\n",
      " -0.00000000e+00  0.00000000e+00 -0.00000000e+00 -0.00000000e+00\n",
      "  0.00000000e+00 -0.00000000e+00  0.00000000e+00]\n",
      "\n",
      "\n",
      "================================================================\n",
      "\n",
      "\n",
      "La Regresión Lasso ha determinado que las variables mas representativas para el modelo son: \n",
      "\n",
      "\n",
      "Index(['persistencia', 'numero_de_no_adherencia', 'tiempo_en_tratamiento_arv',\n",
      "       'numero_de_fracasos', 'tiempo_de_tratamiento',\n",
      "       'antecedente_fracaso_a. no', 'antecedente_fracaso_b. si'],\n",
      "      dtype='object')\n"
     ]
    }
   ],
   "source": [
    "import pandas as pd\n",
    "import numpy as np\n",
    "from sklearn.linear_model import Lasso\n",
    "from sklearn.model_selection import train_test_split\n",
    "from sklearn.metrics import mean_squared_error\n",
    "from sklearn.model_selection import GridSearchCV\n",
    "from sklearn.preprocessing import StandardScaler\n",
    "\n",
    "dataset = pd.read_excel('..//in//Datos_EDA_IMP.xlsx')\n",
    "mapping = {'Fracaso':0,'Éxito':1}\n",
    "dataset['estado_final'] = dataset['estado_final'].map(mapping)\n",
    "dataset = dataset.drop(['id','fecha_inicio_arv'], axis=1)\n",
    "\n",
    "scaler = StandardScaler()\n",
    "normalized_dataset = pd.DataFrame(scaler.fit_transform(dataset), columns=dataset.columns)\n",
    "\n",
    "X = normalized_dataset.drop(['estado_final'], axis=1)\n",
    "y = normalized_dataset[['estado_final']]\n",
    "X_columns = X.columns\n",
    "\n",
    "X_train, X_test, y_train, y_test = train_test_split(X, y, test_size=0.25)\n",
    "\n",
    "modelLasso = Lasso()\n",
    "param_grid = {'alpha': list(np.arange(0.01,1,0.01).round(2))}\n",
    "\n",
    "grid_search = GridSearchCV(modelLasso, param_grid, cv=10)\n",
    "grid_search.fit(X, y)\n",
    "\n",
    "print(\"Mejores parámetros: \", grid_search.best_params_)\n",
    "print(\"Mejor score: \", np.abs(grid_search.best_score_))\n",
    "\n",
    "best_params = grid_search.best_params_\n",
    "best_model = Lasso(alpha=best_params['alpha']).fit(X_train, y_train)\n",
    "\n",
    "lasso_loss = mean_squared_error(y_test, best_model.predict(X_test))\n",
    "print(f\"Lasso Loss: {lasso_loss}\")\n",
    "\n",
    "print(\"\\n\")\n",
    "\n",
    "print(\"=\"*64)\n",
    "print(\"\\n\")\n",
    "print(\"Coef LASSO: \")\n",
    "print(best_model.coef_)\n",
    "print(\"\\n\")\n",
    "\n",
    "print(\"=\"*64)\n",
    "print(\"\\n\")\n",
    "\n",
    "print(\"La Regresión Lasso ha determinado que las variables mas representativas para el modelo son: \")\n",
    "print(\"\\n\")\n",
    "print(X_columns[np.where(best_model.coef_ != 0)])"
   ]
  }
 ],
 "metadata": {
  "kernelspec": {
   "display_name": "Python 3",
   "language": "python",
   "name": "python3"
  },
  "language_info": {
   "codemirror_mode": {
    "name": "ipython",
    "version": 3
   },
   "file_extension": ".py",
   "mimetype": "text/x-python",
   "name": "python",
   "nbconvert_exporter": "python",
   "pygments_lexer": "ipython3",
   "version": "3.7.6"
  }
 },
 "nbformat": 4,
 "nbformat_minor": 5
}
