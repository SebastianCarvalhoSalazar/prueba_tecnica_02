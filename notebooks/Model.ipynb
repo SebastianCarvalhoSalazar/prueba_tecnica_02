{
 "cells": [
  {
   "cell_type": "markdown",
   "id": "fe9c6627",
   "metadata": {},
   "source": [
    "## <center>Prueba Tecnica</center>\n",
    "#### <center>Autor:</center>\n",
    "##### <center>Sebastian Carvalho Salazar:</center>"
   ]
  },
  {
   "cell_type": "markdown",
   "id": "ba412eb0",
   "metadata": {},
   "source": [
    "# Modelo"
   ]
  },
  {
   "cell_type": "markdown",
   "id": "7d9213a8",
   "metadata": {},
   "source": [
    "La regresión logística y los bosques aleatorios son dos modelos de aprendizaje automático que podrían ser buenos para el problema de predecir el fracaso virológico en pacientes con VIH.\n",
    "\n",
    "La regresión logística es una técnica de clasificación que se utiliza para predecir la probabilidad de un evento binario, en este caso, la ocurrencia o no del fracaso virológico.\n",
    "\n",
    "Por otro lado, los bosques aleatorios son un conjunto de árboles de decisión que se combinan para producir una predicción (Estos modelos son útiles para reducir el riesgo de sobreajuste, aumentar la precisión en la predicción, manejar una gran cantidad de características y datos faltantes)."
   ]
  },
  {
   "cell_type": "code",
   "execution_count": 450,
   "id": "af393449",
   "metadata": {},
   "outputs": [],
   "source": [
    "import pandas as pd\n",
    "import numpy as np\n",
    "import seaborn as sns\n",
    "import joblib\n",
    "import matplotlib.pyplot as plt\n",
    "from sklearn.ensemble import RandomForestClassifier\n",
    "from sklearn.linear_model import LogisticRegression\n",
    "from sklearn.model_selection import train_test_split\n",
    "from sklearn.model_selection import GridSearchCV\n",
    "from sklearn.metrics import confusion_matrix\n",
    "from sklearn.metrics import classification_report\n",
    "from sklearn.metrics import recall_score\n",
    "\n",
    "class Models:\n",
    "\n",
    "    def __init__(self):\n",
    "\n",
    "        self.reg = {\n",
    "            'LogisticRegression': LogisticRegression(),\n",
    "            'RandomForest': RandomForestClassifier(n_estimators=100 , n_jobs=-1),\n",
    "        }\n",
    "\n",
    "        self.params = {\n",
    "            'LogisticRegression' : {\n",
    "                'C': [0.01, 0.1, 1], \n",
    "                'solver': ['lbfgs','liblinear'], \n",
    "            }, 'RandomForest' : {\n",
    "                'min_samples_split': np.arange(2,6),\n",
    "                'max_leaf_nodes': np.arange(2,6),  \n",
    "                'max_depth': np.arange(2,6)\n",
    "            }\n",
    "        }\n",
    "    \n",
    "    def model_export(self, clf, score):\n",
    "        joblib.dump(clf, '..//models//best_model_{0:.4f}.pkl'.format(score))\n",
    "\n",
    "    def grid_training(self, X, y):\n",
    "        best_score = 999\n",
    "        best_model = None\n",
    "        \n",
    "        for name, reg in self.reg.items():\n",
    "            grid_reg = GridSearchCV(reg, self.params[name], cv=3).fit(X, y.values.ravel())\n",
    "            score = np.abs(grid_reg.best_score_)\n",
    "\n",
    "            if score < best_score:\n",
    "                best_score = score\n",
    "                best_model = grid_reg.best_estimator_\n",
    "        \n",
    "        self.model_export(best_model, best_score)\n",
    "        print(best_model)\n",
    "        return best_model\n",
    "        \n",
    "    def model_results(self, X, y, best_model):\n",
    "        \n",
    "        x_train, x_test, y_train, y_test = train_test_split(X, y, test_size=0.35)\n",
    "        \n",
    "        print(\"=\"*100)\n",
    "        model = best_model\n",
    "        print(model)\n",
    "        \n",
    "        model.fit(x_train, y_train.values.ravel())\n",
    "        y_fit = model.predict(x_test)\n",
    "        \n",
    "        print(\"=\"*100)\n",
    "        print(\"\\n\")\n",
    "        \n",
    "        print(classification_report(y_test,y_fit))\n",
    "        cm = confusion_matrix(y_test,y_fit)\n",
    "        \n",
    "        print(\"=\"*100)\n",
    "\n",
    "        plt.figure(figsize=(5,5))\n",
    "        sns.heatmap(cm.T ,square=True , annot=True, cbar=False, xticklabels=True)\n",
    "        plt.xlabel('True label')\n",
    "        plt.ylabel('Predicted label')\n",
    "        plt.show()\n",
    "        \n",
    "        print(\"=\"*100)\n",
    "        \n",
    "        #n_features = len(X.columns)\n",
    "        #plt.figure(figsize=(12,8))\n",
    "        #plt.barh(range(n_features), model.feature_importances_, align='center')\n",
    "        #plt.yticks(np.arange(n_features), X.columns.to_list())\n",
    "        #plt.xlabel(\"Feature importance\")\n",
    "        #plt.ylabel(\"Feature\")\n",
    "        #plt.grid()\n",
    "        #plt.show()      \n",
    "        #print(\"=\"*100)    \n",
    "        #estimator = model.estimators_[10]"
   ]
  },
  {
   "cell_type": "markdown",
   "id": "5989b374",
   "metadata": {},
   "source": [
    "## Carga de Datos"
   ]
  },
  {
   "cell_type": "markdown",
   "id": "8f9462bf",
   "metadata": {},
   "source": [
    "Se Observa que el conjunto de datos se encuentra bastante balanceado, lo cual es conveniente e ideal para el entrenamiento del modelo, sin embargo, es importante mencionar que este conjunto de datos el cual cuenta con los pacientes que llevan en tratamiento al menos seis meses es una sub muestra bastante reducida, por lo que sería ideal contar a futuro con más observaciones para robustecer el modelo."
   ]
  },
  {
   "cell_type": "code",
   "execution_count": 378,
   "id": "cb883fc3",
   "metadata": {},
   "outputs": [],
   "source": [
    "df = pd.read_excel('..//in//Datos_EDA_IMP_WL_TM.xlsx', index_col=0)"
   ]
  },
  {
   "cell_type": "code",
   "execution_count": 379,
   "id": "4382a18e",
   "metadata": {},
   "outputs": [
    {
     "data": {
      "text/plain": [
       "<AxesSubplot:>"
      ]
     },
     "execution_count": 379,
     "metadata": {},
     "output_type": "execute_result"
    },
    {
     "data": {
      "image/png": "[encoded data removed]",
      "text/plain": [
       "<Figure size 864x288 with 1 Axes>"
      ]
     },
     "metadata": {
      "needs_background": "light"
     },
     "output_type": "display_data"
    }
   ],
   "source": [
    "plt.figure(figsize=(12,4))\n",
    "df['Target'].value_counts().plot(kind='bar', grid=True)"
   ]
  },
  {
   "cell_type": "markdown",
   "id": "331b7d11",
   "metadata": {},
   "source": [
    "## Procesamiento"
   ]
  },
  {
   "cell_type": "code",
   "execution_count": 380,
   "id": "09919c68",
   "metadata": {},
   "outputs": [],
   "source": [
    "models = Models()\n",
    "\n",
    "df.drop(['persistencia','tiempo_en_tratamiento_arv_meses','Label'], inplace=True, axis=1)\n",
    "X = df.drop(['Target'], axis=1)\n",
    "y = df['Target'].map({'Fracaso':0,'Éxito':1})"
   ]
  },
  {
   "cell_type": "code",
   "execution_count": 381,
   "id": "ba5b8f15",
   "metadata": {},
   "outputs": [
    {
     "name": "stdout",
     "output_type": "stream",
     "text": [
      "LogisticRegression(C=0.1, solver='liblinear')\n"
     ]
    }
   ],
   "source": [
    "grid_reg = models.grid_training(X,y)"
   ]
  },
  {
   "cell_type": "code",
   "execution_count": 382,
   "id": "bf62a20f",
   "metadata": {},
   "outputs": [
    {
     "name": "stdout",
     "output_type": "stream",
     "text": [
      "====================================================================================================\n",
      "LogisticRegression(C=0.1, solver='liblinear')\n",
      "====================================================================================================\n",
      "\n",
      "\n",
      "              precision    recall  f1-score   support\n",
      "\n",
      "           0       1.00      1.00      1.00         8\n",
      "           1       1.00      1.00      1.00         7\n",
      "\n",
      "    accuracy                           1.00        15\n",
      "   macro avg       1.00      1.00      1.00        15\n",
      "weighted avg       1.00      1.00      1.00        15\n",
      "\n",
      "====================================================================================================\n"
     ]
    },
    {
     "data": {
      "image/png": "[encoded data removed]",
      "text/plain": [
       "<Figure size 360x360 with 1 Axes>"
      ]
     },
     "metadata": {
      "needs_background": "light"
     },
     "output_type": "display_data"
    },
    {
     "name": "stdout",
     "output_type": "stream",
     "text": [
      "====================================================================================================\n"
     ]
    }
   ],
   "source": [
    "models.model_results(X, y, grid_reg)"
   ]
  },
  {
   "cell_type": "markdown",
   "id": "e333716e",
   "metadata": {},
   "source": [
    "## ¿Cuál y porque de la métrica de rendimiento a utilizar?\n",
    "\n",
    "Si el label es ${1}$ se asignará Éxito en la prueba del paciente, mientras que si el label es ${0}$ se asignara Fracaso. En este tipo de problemas se le dara prioridad a la **exhaustividad (Recall)** la es una **métrica** que mide cuántas de las muestras positivas son capturadas por las predicciones positivas. Se utiliza como métrica de rendimiento cuando necesitamos identificar todas las muestras positivas; es decir, **cuando es importante evitar falsos negativos**. Ya que el caso más delicado seria decirle erróneamente a un paciente que está bien cuando en realidad podría no estarlo."
   ]
  },
  {
   "cell_type": "markdown",
   "id": "248a3a34",
   "metadata": {},
   "source": [
    "# Pruebas"
   ]
  },
  {
   "cell_type": "markdown",
   "id": "df08c548",
   "metadata": {},
   "source": [
    "### Cargar Datos"
   ]
  },
  {
   "cell_type": "code",
   "execution_count": 433,
   "id": "63fdc8e5",
   "metadata": {},
   "outputs": [],
   "source": [
    "df = pd.read_excel('..//in//Datos_EDA_IMP_WL.xlsx', index_col=0)"
   ]
  },
  {
   "cell_type": "markdown",
   "id": "650aea9d",
   "metadata": {},
   "source": [
    "### Cargar modelo"
   ]
  },
  {
   "cell_type": "code",
   "execution_count": 434,
   "id": "dcc977d6",
   "metadata": {},
   "outputs": [],
   "source": [
    "modelo = joblib.load(\"..//models//best_model_1.0000.pkl\")"
   ]
  },
  {
   "cell_type": "markdown",
   "id": "61b92de0",
   "metadata": {},
   "source": [
    "### Manipulación de Datos"
   ]
  },
  {
   "cell_type": "code",
   "execution_count": 435,
   "id": "d17cef4f",
   "metadata": {},
   "outputs": [],
   "source": [
    "df['tiempo_en_tratamiento_arv_meses'] = (df['tiempo_en_tratamiento_arv'] / 30)\n",
    "df = df[(df['tiempo_en_tratamiento_arv_meses'] > 6.0) & (df['tiempo_en_tratamiento_arv_meses'] <= 8.0)]"
   ]
  },
  {
   "cell_type": "code",
   "execution_count": 436,
   "id": "3062fde2",
   "metadata": {},
   "outputs": [],
   "source": [
    "df.drop(['tiempo_en_tratamiento_arv_meses'], inplace=True, axis=1)"
   ]
  },
  {
   "cell_type": "code",
   "execution_count": 437,
   "id": "4be554d5",
   "metadata": {},
   "outputs": [],
   "source": [
    "df_1 = df.copy(deep=True)"
   ]
  },
  {
   "cell_type": "code",
   "execution_count": 438,
   "id": "c3cb9ba8",
   "metadata": {},
   "outputs": [],
   "source": [
    "df.drop(['persistencia','Label','Target'], inplace=True, axis=1)"
   ]
  },
  {
   "cell_type": "markdown",
   "id": "ddd537fb",
   "metadata": {},
   "source": [
    "### Predicciones \n",
    "\n",
    "Estas predicciones se realizan sobre pacientes que se encuentran en un tiempo de tratamiento mayor a seis meses, sin embargo, se toman pacientes con tiempos aunque mayores, cercanos a los seis meses. "
   ]
  },
  {
   "cell_type": "code",
   "execution_count": 439,
   "id": "e221b467",
   "metadata": {},
   "outputs": [],
   "source": [
    "df_1['Predict'] = modelo.predict(df)\n",
    "df_1['Predict'] = df_1['Predict'].map({0:'Fracaso',1:'Éxito'})"
   ]
  },
  {
   "cell_type": "code",
   "execution_count": 440,
   "id": "f48b2e6b",
   "metadata": {},
   "outputs": [
    {
     "data": {
      "text/plain": [
       "Éxito      185\n",
       "Fracaso    115\n",
       "Name: Predict, dtype: int64"
      ]
     },
     "execution_count": 440,
     "metadata": {},
     "output_type": "execute_result"
    }
   ],
   "source": [
    "df_1.Predict.value_counts()"
   ]
  },
  {
   "cell_type": "code",
   "execution_count": 445,
   "id": "a4f9f96f",
   "metadata": {},
   "outputs": [],
   "source": [
    "df_1['is_good'] = (df_1['Target'] == df_1['Predict'])"
   ]
  },
  {
   "cell_type": "code",
   "execution_count": 448,
   "id": "94c9b3fa",
   "metadata": {},
   "outputs": [
    {
     "data": {
      "text/plain": [
       "True     297\n",
       "False      3\n",
       "Name: is_good, dtype: int64"
      ]
     },
     "execution_count": 448,
     "metadata": {},
     "output_type": "execute_result"
    }
   ],
   "source": [
    "df_1['is_good'].value_counts()"
   ]
  },
  {
   "cell_type": "markdown",
   "id": "86c37a1d",
   "metadata": {},
   "source": [
    "### Se Observa un Recall aceptable para ambas categorias"
   ]
  },
  {
   "cell_type": "code",
   "execution_count": 452,
   "id": "91be4a93",
   "metadata": {},
   "outputs": [
    {
     "data": {
      "text/plain": [
       "array([1.        , 0.98404255])"
      ]
     },
     "execution_count": 452,
     "metadata": {},
     "output_type": "execute_result"
    }
   ],
   "source": [
    "recall = recall_score(df_1['Target'].values, df_1['Predict'].values, average=None)\n",
    "recall"
   ]
  },
  {
   "cell_type": "markdown",
   "id": "3947b993",
   "metadata": {},
   "source": [
    "### Guardar Datos"
   ]
  },
  {
   "cell_type": "code",
   "execution_count": 441,
   "id": "66a0941b",
   "metadata": {},
   "outputs": [],
   "source": [
    "df_1.to_excel(\"..//in//Datos_EDA_IMP_WL_TM_P.xlsx\")"
   ]
  }
 ],
 "metadata": {
  "kernelspec": {
   "display_name": "Python 3",
   "language": "python",
   "name": "python3"
  },
  "language_info": {
   "codemirror_mode": {
    "name": "ipython",
    "version": 3
   },
   "file_extension": ".py",
   "mimetype": "text/x-python",
   "name": "python",
   "nbconvert_exporter": "python",
   "pygments_lexer": "ipython3",
   "version": "3.7.6"
  }
 },
 "nbformat": 4,
 "nbformat_minor": 5
}
